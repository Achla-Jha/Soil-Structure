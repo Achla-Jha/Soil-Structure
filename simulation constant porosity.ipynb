{
 "cells": [
  {
   "cell_type": "code",
   "execution_count": 1,
   "metadata": {},
   "outputs": [],
   "source": [
    "import numpy as np\n",
    "import pandas as pd\n",
    "import model_constant_phi as md\n",
    "import matplotlib.pyplot as plt\n",
    "from scipy.optimize import curve_fit "
   ]
  },
  {
   "cell_type": "code",
   "execution_count": 2,
   "metadata": {},
   "outputs": [],
   "source": [
    "import pylab\n",
    "params = {'backend': 'ps',\n",
    "          'axes.labelsize': 20,\n",
    "          'legend.fontsize': 20,\n",
    "          'legend.handlelength': 2.0,\n",
    "          'legend.borderaxespad': 0,\n",
    "          'xtick.labelsize': 20,\n",
    "          'ytick.labelsize': 20,\n",
    "          'font.family': 'serif',\n",
    "          'font.size': 20,\n",
    "          'font.weight': 'normal',\n",
    "          #'font.serif': ['Palatino'],\n",
    "          'ps.usedistiller': 'xpdf',\n",
    "          'text.usetex': False}\n",
    "pylab.rcParams.update(params)"
   ]
  },
  {
   "cell_type": "code",
   "execution_count": 3,
   "metadata": {},
   "outputs": [],
   "source": [
    "# Main forcings\n",
    "dt = 1 / 24\n",
    "nyears = 2150  #simulation for 2150 years\n",
    "ndays = nyears * 365\n",
    "nsim = ndays * 1 / dt\n",
    "nnpp=150*365*24\n",
    "\n",
    "# Rainfall from Poisson\n",
    "rain = md.poisson_process(n=int(nsim), alpha=0.5/100, lbd=(0.315 * dt))\n",
    "\n",
    "# NPP simulated\n",
    "tsim = np.linspace(1, nnpp, int(nnpp)) # Hour\n",
    "# tsim = np.linspace(1, nsim, int(nsim)) # Hour\n",
    "a = 650    # Fitted with annual values (NPP and time)\n",
    "b = 15     # Fitted with annual values (NPP and time)\n",
    "\n",
    "npp = ((a * tsim * dt / 365 / (b + tsim * dt / 365))) / 365-0.06"
   ]
  },
  {
   "cell_type": "code",
   "execution_count": 4,
   "metadata": {},
   "outputs": [
    {
     "data": {
      "text/plain": [
       "Text(0, 0.5, 'NPP (g C m$^{-2}$ yr$^{-1}$)')"
      ]
     },
     "execution_count": 4,
     "metadata": {},
     "output_type": "execute_result"
    },
    {
     "data": {
      "image/png": "[encoded data removed]",
      "text/plain": [
       "<Figure size 612x540 with 1 Axes>"
      ]
     },
     "metadata": {
      "needs_background": "light"
     },
     "output_type": "display_data"
    }
   ],
   "source": [
    "# 2000 years spin up of NPP as input for the carbon model\n",
    "\n",
    "nspin=17528760 # representing years as hours for spin up i.e 2000*365*24\n",
    "\n",
    "# Applying a heaviside function for the spin up\n",
    "add_vec = np.ones(len(npp) + nspin, dtype = float)\n",
    "add_vec[:nspin] = 0.06 \n",
    "add_vec[nspin:] = add_vec[nspin:]*(npp+0.12)\n",
    "npp = np.copy(add_vec)\n",
    "fig = plt.figure(figsize=(8.5, 7.5))\n",
    "plt.plot(add_vec[:])\n",
    "plt.xlabel(r'years', fontsize=20)\n",
    "plt.ylabel(r'NPP (g C m$^{-2}$ yr$^{-1}$)',fontsize=20)"
   ]
  },
  {
   "cell_type": "code",
   "execution_count": 5,
   "metadata": {},
   "outputs": [],
   "source": [
    "#Hydraulic parameterization for constant porosity -------------------------------\n",
    "alpha1 = 580   #hydraulic conductivity\n",
    "beta1 = 6      #hydraulic conductivity\n",
    "alpha2 = 580   #porosity\n",
    "beta2 = 6      #porosity\n",
    "kstex = 0.172  #m/d\n",
    "kstot = 0.172  #m/d\n",
    "phitex = 0.514  \n",
    "phitot = 0.514  "
   ]
  },
  {
   "cell_type": "code",
   "execution_count": 6,
   "metadata": {},
   "outputs": [
    {
     "name": "stderr",
     "output_type": "stream",
     "text": [
      "100%|███████████████████████████████████████████████████████████████████| 18834000/18834000 [27:30<00:00, 11407.89it/s]\n"
     ]
    }
   ],
   "source": [
    "# Simulation for 2150 years at constant porosity\n",
    "sim = md.solve_long_run(rain, npp, kstex, kstot, phitex, phitot, alpha1, beta1, alpha2, beta2)\n",
    "sim_year = sim.pivot_table(values=['s', 'phi', 'ksstr', 'P', 'DOC', 'A', 'M', 'B', 'Fa', 'Fpa','Flb','Fl', 'Flm', 'Fpl', 'Fbm','Fld', 'Fal','Flm','lk'],\n",
    "                           index='Years',\n",
    "                           aggfunc=np.mean)"
   ]
  }
 ],
 "metadata": {
  "kernelspec": {
   "display_name": "Python 3",
   "language": "python",
   "name": "python3"
  },
  "language_info": {
   "codemirror_mode": {
    "name": "ipython",
    "version": 3
   },
   "file_extension": ".py",
   "mimetype": "text/x-python",
   "name": "python",
   "nbconvert_exporter": "python",
   "pygments_lexer": "ipython3",
   "version": "3.8.5"
  }
 },
 "nbformat": 4,
 "nbformat_minor": 4
}
